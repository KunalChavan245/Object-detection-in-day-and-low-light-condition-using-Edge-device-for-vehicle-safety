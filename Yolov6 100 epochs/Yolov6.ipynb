{
  "nbformat": 4,
  "nbformat_minor": 0,
  "metadata": {
    "colab": {
      "provenance": []
    },
    "kernelspec": {
      "name": "python3",
      "display_name": "Python 3"
    },
    "language_info": {
      "name": "python"
    }
  },
  "cells": [
    {
      "cell_type": "code",
      "execution_count": null,
      "metadata": {
        "id": "XzIP5DsfQZ0A"
      },
      "outputs": [],
      "source": [
        "# Download MT-YOLOv6 repository and install requirements\n",
        "!git clone https://github.com/meituan/YOLOv6\n",
        "%cd YOLOv6\n",
        "!pip install -r requirements.txt"
      ]
    },
    {
      "cell_type": "code",
      "source": [
        "# import custom dataset\n",
        "!pip install \"roboflow>=0.2.11\"\n",
        "\n",
        "from roboflow import Roboflow\n",
        "rf = Roboflow(api_key=\"chess-sample-only-api-key\")\n",
        "project = rf.workspace(\"joseph-nelson\").project(\"chess-pieces-new\")\n",
        "dataset = project.version(23).download(\"mt-yolov6\")"
      ],
      "metadata": {
        "id": "8UYulD0GQbKc"
      },
      "execution_count": null,
      "outputs": []
    },
    {
      "cell_type": "code",
      "source": [
        "#Training\n",
        "!python tools/train.py --batch 32 --conf configs/yolov6s.py --epochs 100 --img-size 416 --data /content/yolov7/INFRARED-2/data.yaml --device 0"
      ],
      "metadata": {
        "id": "MCBsaC_SQg_i"
      },
      "execution_count": null,
      "outputs": []
    },
    {
      "cell_type": "code",
      "source": [
        "# Run evaluation\n",
        "!python tools/eval.py --data /content/yolov7/INFRARED-2/data.yaml --img-size 416 --weights runs/train/exp/weights/best_ckpt.pt --device 0"
      ],
      "metadata": {
        "id": "0EnJyBGVQz4j"
      },
      "execution_count": null,
      "outputs": []
    },
    {
      "cell_type": "code",
      "source": [
        "# infer on all images in our /test directory\n",
        "!python tools/infer.py --yaml /content/yolov7/INFRARED-2/data.yaml --img-size 416 --weights runs/train/exp/weights/best_ckpt.pt --source /content/yolov7/INFRARED-2/images/test/ --device 0\n"
      ],
      "metadata": {
        "id": "91jMq3GxRS7u"
      },
      "execution_count": null,
      "outputs": []
    }
  ]
}