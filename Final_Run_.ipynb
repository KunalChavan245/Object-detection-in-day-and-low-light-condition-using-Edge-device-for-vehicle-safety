{
  "nbformat": 4,
  "nbformat_minor": 0,
  "metadata": {
    "colab": {
      "private_outputs": true,
      "provenance": []
    },
    "kernelspec": {
      "name": "python3",
      "display_name": "Python 3"
    },
    "language_info": {
      "name": "python"
    }
  },
  "cells": [
    {
      "cell_type": "markdown",
      "source": [
        "**To check the GPU**"
      ],
      "metadata": {
        "id": "_Cu4LuJYToBb"
      }
    },
    {
      "cell_type": "code",
      "execution_count": null,
      "metadata": {
        "id": "clGYvd5BwI2b"
      },
      "outputs": [],
      "source": [
        "!nvidia-smi"
      ]
    },
    {
      "cell_type": "markdown",
      "source": [
        "**To install required Libraries**"
      ],
      "metadata": {
        "id": "SEN42YJBTyRs"
      }
    },
    {
      "cell_type": "code",
      "source": [
        "!pip install ultralytics"
      ],
      "metadata": {
        "id": "WHV1ioyrwfGl"
      },
      "execution_count": null,
      "outputs": []
    },
    {
      "cell_type": "code",
      "source": [
        "from ultralytics import YOLO\n",
        "import cv2\n"
      ],
      "metadata": {
        "id": "NC9NtbruwhuZ"
      },
      "execution_count": null,
      "outputs": []
    },
    {
      "cell_type": "markdown",
      "source": [
        "**To Implement Model on the Test Case**"
      ],
      "metadata": {
        "id": "YYCmGRDVT7p_"
      }
    },
    {
      "cell_type": "code",
      "source": [
        "!yolo detect predict model=best.pt {\"best weight of trained model\"} source=\"Path of Videos or Webcam{0} {/content/Test.mp4}\""
      ],
      "metadata": {
        "id": "UoAo2KQqww7M"
      },
      "execution_count": null,
      "outputs": []
    },
    {
      "cell_type": "code",
      "source": [
        "!yolo detect predict model=best.pt {\"best weight of trained model\"} source=\"Path of Videos or Webcam{0} {/content/Test.mp4}\""
      ],
      "metadata": {
        "id": "bW4rcOeszEKH"
      },
      "execution_count": null,
      "outputs": []
    }
  ]
}